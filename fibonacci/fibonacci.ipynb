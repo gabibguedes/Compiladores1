{
 "cells": [
  {
   "cell_type": "code",
   "execution_count": 6,
   "metadata": {},
   "outputs": [
    {
     "data": {
      "text/plain": [
       "[1, 1, 2, 3, 5, 8, 13, 21, 34, 55]"
      ]
     },
     "execution_count": 6,
     "metadata": {},
     "output_type": "execute_result"
    }
   ],
   "source": [
    "#Fibonachi\n",
    "\n",
    "n = 10\n",
    "fibs = []\n",
    "x, y = 1, 1\n",
    "for _ in range(n):\n",
    "    fibs.append(x)\n",
    "    x, y = y, x + y\n",
    "    \n",
    "fibs"
   ]
  },
  {
   "cell_type": "code",
   "execution_count": 1,
   "metadata": {},
   "outputs": [
    {
     "data": {
      "text/plain": [
       "[1, 1, 2, 3, 5, 8, 13, 21, 34, 55]"
      ]
     },
     "execution_count": 1,
     "metadata": {},
     "output_type": "execute_result"
    }
   ],
   "source": [
    "from functools import lru_cache\n",
    "\n",
    "n = 10\n",
    "\n",
    "def fibs(n: int) -> [int]:\n",
    "    return list(map(fib, range(n)))\n",
    "\n",
    "\n",
    "@lru_cache(1024)\n",
    "def fib(n: int) -> int:\n",
    "    if n <= 1:\n",
    "        return 1\n",
    "    else:\n",
    "        return fib(n-1) + fib(n-2)\n",
    "fibs(10)"
   ]
  },
  {
   "cell_type": "code",
   "execution_count": 50,
   "metadata": {},
   "outputs": [
    {
     "data": {
      "text/plain": [
       "[1, 1, 2, 3, 5, 8, 13, 21, 34, 55]"
      ]
     },
     "execution_count": 50,
     "metadata": {},
     "output_type": "execute_result"
    }
   ],
   "source": [
    "fibs(10)\n"
   ]
  },
  {
   "cell_type": "code",
   "execution_count": 26,
   "metadata": {},
   "outputs": [
    {
     "name": "stdout",
     "output_type": "stream",
     "text": [
      "191 ns ± 17.3 ns per loop (mean ± std. dev. of 7 runs, 1000 loops each)\n"
     ]
    }
   ],
   "source": [
    "%timeit -n 1000 fib(20)"
   ]
  },
  {
   "cell_type": "code",
   "execution_count": 51,
   "metadata": {},
   "outputs": [
    {
     "data": {
      "text/plain": [
       "55"
      ]
     },
     "execution_count": 51,
     "metadata": {},
     "output_type": "execute_result"
    }
   ],
   "source": [
    "def fib(n, x=1, y=1):\n",
    "    if n == 0:\n",
    "        return x\n",
    "    else:\n",
    "        return fib(n -1, y, x+y)\n",
    "\n",
    "fib(9)"
   ]
  },
  {
   "cell_type": "code",
   "execution_count": 52,
   "metadata": {},
   "outputs": [
    {
     "data": {
      "text/plain": [
       "[1, 1, 2, 3, 5, 8, 13, 21, 34, 55]"
      ]
     },
     "execution_count": 52,
     "metadata": {},
     "output_type": "execute_result"
    }
   ],
   "source": [
    "def fibs(n, lst=[]):\n",
    "    if n == 0:\n",
    "        return lst\n",
    "    elif len(lst) <= 1:\n",
    "        return fibs(n-1, [*lst, 1])\n",
    "    else:\n",
    "        return fibs(n-1, [*lst, lst[-1] + lst[-2]])\n",
    "    \n",
    "fibs(10)"
   ]
  },
  {
   "cell_type": "code",
   "execution_count": 41,
   "metadata": {},
   "outputs": [
    {
     "data": {
      "text/plain": [
       "(1, (2, (3, (4, 5, None))))"
      ]
     },
     "execution_count": 41,
     "metadata": {},
     "output_type": "execute_result"
    }
   ],
   "source": [
    "[1, 2, 3, 4, 5]\n",
    "\n",
    "(1, (2, (3, (4, 5, None))))"
   ]
  },
  {
   "cell_type": "code",
   "execution_count": 53,
   "metadata": {},
   "outputs": [
    {
     "data": {
      "text/plain": [
       "(55, (34, (21, (13, (8, (5, (3, (2, (1, (1, None))))))))))"
      ]
     },
     "execution_count": 53,
     "metadata": {},
     "output_type": "execute_result"
    }
   ],
   "source": [
    "def fibs(n, lst = None):\n",
    "    if n == 0:\n",
    "        return lst\n",
    "    elif length(lst) <= 1:\n",
    "        return fibs(n -1, (1, lst))\n",
    "    else:\n",
    "        y, rest = lst\n",
    "        x,_ = rest\n",
    "        return fibs(n-1, (y + x , lst))\n",
    "    \n",
    "def length(lst):\n",
    "    if lst is None:\n",
    "        return 0\n",
    "    else:\n",
    "        car, cdr = lst\n",
    "        return 1+ length(cdr)\n",
    "    \n",
    "def reverse(lst, aux = None):\n",
    "    if lst is None:\n",
    "        return aux\n",
    "    \n",
    "fibs(10)"
   ]
  },
  {
   "cell_type": "code",
   "execution_count": null,
   "metadata": {},
   "outputs": [],
   "source": []
  }
 ],
 "metadata": {
  "kernelspec": {
   "display_name": "Python 3",
   "language": "python",
   "name": "python3"
  },
  "language_info": {
   "codemirror_mode": {
    "name": "ipython",
    "version": 3
   },
   "file_extension": ".py",
   "mimetype": "text/x-python",
   "name": "python",
   "nbconvert_exporter": "python",
   "pygments_lexer": "ipython3",
   "version": "3.6.6"
  }
 },
 "nbformat": 4,
 "nbformat_minor": 2
}
