{
 "cells": [
  {
   "cell_type": "code",
   "execution_count": 1,
   "metadata": {},
   "outputs": [
    {
     "data": {
      "text/plain": [
       "120"
      ]
     },
     "execution_count": 1,
     "metadata": {},
     "output_type": "execute_result"
    }
   ],
   "source": [
    "## Fatorial sem cauda\n",
    "\n",
    "def fat(num):\n",
    "    if num < 2:\n",
    "        return 1\n",
    "    else:\n",
    "        return  (num * fat(num -1))\n",
    "    \n",
    "fat(5)"
   ]
  },
  {
   "cell_type": "code",
   "execution_count": 17,
   "metadata": {},
   "outputs": [],
   "source": [
    "## fats de calda ???????????????\n",
    "\n",
    "def fats(n, lst = None):\n",
    "    print(\"HELP!\")"
   ]
  },
  {
   "cell_type": "code",
   "execution_count": 8,
   "metadata": {},
   "outputs": [
    {
     "name": "stdout",
     "output_type": "stream",
     "text": [
      "1\n",
      "2 Fizz\n",
      "3 Buzz\n",
      "4 Fizz\n",
      "5\n",
      "6 FizzBuzz\n",
      "7\n",
      "8 Fizz\n",
      "9 Buzz\n",
      "10 Fizz\n",
      "11\n",
      "12 FizzBuzz\n",
      "13\n",
      "14 Fizz\n",
      "15 Buzz\n",
      "16 Fizz\n",
      "17\n",
      "18 FizzBuzz\n",
      "19\n",
      "20 Fizz\n",
      "21 Buzz\n",
      "22 Fizz\n",
      "23\n",
      "24 FizzBuzz\n",
      "25\n",
      "26 Fizz\n",
      "27 Buzz\n",
      "28 Fizz\n",
      "29\n",
      "30 FizzBuzz\n",
      "31\n",
      "32 Fizz\n",
      "33 Buzz\n",
      "34 Fizz\n",
      "35\n",
      "36 FizzBuzz\n",
      "37\n",
      "38 Fizz\n",
      "39 Buzz\n",
      "40 Fizz\n",
      "41\n",
      "42 FizzBuzz\n",
      "43\n",
      "44 Fizz\n",
      "45 Buzz\n",
      "46 Fizz\n",
      "47\n",
      "48 FizzBuzz\n",
      "49\n",
      "50 Fizz\n",
      "51 Buzz\n",
      "52 Fizz\n",
      "53\n",
      "54 FizzBuzz\n",
      "55\n",
      "56 Fizz\n",
      "57 Buzz\n",
      "58 Fizz\n",
      "59\n",
      "60 FizzBuzz\n",
      "61\n",
      "62 Fizz\n",
      "63 Buzz\n",
      "64 Fizz\n",
      "65\n",
      "66 FizzBuzz\n",
      "67\n",
      "68 Fizz\n",
      "69 Buzz\n",
      "70 Fizz\n",
      "71\n",
      "72 FizzBuzz\n",
      "73\n",
      "74 Fizz\n",
      "75 Buzz\n",
      "76 Fizz\n",
      "77\n",
      "78 FizzBuzz\n",
      "79\n",
      "80 Fizz\n",
      "81 Buzz\n",
      "82 Fizz\n",
      "83\n",
      "84 FizzBuzz\n",
      "85\n",
      "86 Fizz\n",
      "87 Buzz\n",
      "88 Fizz\n",
      "89\n",
      "90 FizzBuzz\n",
      "91\n",
      "92 Fizz\n",
      "93 Buzz\n",
      "94 Fizz\n",
      "95\n",
      "96 FizzBuzz\n",
      "97\n",
      "98 Fizz\n",
      "99 Buzz\n",
      "100 Fizz\n"
     ]
    }
   ],
   "source": [
    "## Fizz Buzz\n",
    "\n",
    "for i in range(1, 101):\n",
    "    if i%2 ==0 and i%3 ==0:\n",
    "        print(\"{} FizzBuzz\".format(i))\n",
    "    elif i%2 == 0:\n",
    "        print(\"{} Fizz\".format(i))\n",
    "    elif i%3 == 0:\n",
    "        print(\"{} Buzz\".format(i))\n",
    "    else:\n",
    "        print(i)\n",
    "    "
   ]
  },
  {
   "cell_type": "code",
   "execution_count": 11,
   "metadata": {},
   "outputs": [
    {
     "name": "stdout",
     "output_type": "stream",
     "text": [
      "7\n",
      "22\n",
      "11.0\n",
      "34.0\n",
      "17.0\n",
      "52.0\n",
      "26.0\n",
      "13.0\n",
      "40.0\n",
      "20.0\n",
      "10.0\n",
      "5.0\n",
      "16.0\n",
      "8.0\n",
      "4.0\n",
      "2.0\n",
      "1.0\n",
      "1\n"
     ]
    }
   ],
   "source": [
    "# Collatz\n",
    "\n",
    "def collatz(n):\n",
    "    print(n)\n",
    "    if n == 1:\n",
    "        return 1\n",
    "    elif n%2 == 0:\n",
    "        return collatz(n/2)\n",
    "    else:\n",
    "        return collatz(3 * n + 1)\n",
    "\n",
    "print(collatz(7))       "
   ]
  },
  {
   "cell_type": "code",
   "execution_count": null,
   "metadata": {},
   "outputs": [],
   "source": []
  }
 ],
 "metadata": {
  "kernelspec": {
   "display_name": "Python 2",
   "language": "python",
   "name": "python2"
  },
  "language_info": {
   "codemirror_mode": {
    "name": "ipython",
    "version": 2
   },
   "file_extension": ".py",
   "mimetype": "text/x-python",
   "name": "python",
   "nbconvert_exporter": "python",
   "pygments_lexer": "ipython2",
   "version": "2.7.15"
  }
 },
 "nbformat": 4,
 "nbformat_minor": 2
}
